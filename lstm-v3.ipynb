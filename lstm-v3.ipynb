{
 "cells": [
  {
   "cell_type": "code",
   "execution_count": 13,
   "id": "e1ee804e-07cb-4d68-a9db-2b1c64c5a765",
   "metadata": {},
   "outputs": [
    {
     "data": {
      "text/html": [
       "<div>\n",
       "<style scoped>\n",
       "    .dataframe tbody tr th:only-of-type {\n",
       "        vertical-align: middle;\n",
       "    }\n",
       "\n",
       "    .dataframe tbody tr th {\n",
       "        vertical-align: top;\n",
       "    }\n",
       "\n",
       "    .dataframe thead th {\n",
       "        text-align: right;\n",
       "    }\n",
       "</style>\n",
       "<table border=\"1\" class=\"dataframe\">\n",
       "  <thead>\n",
       "    <tr style=\"text-align: right;\">\n",
       "      <th></th>\n",
       "      <th>Date</th>\n",
       "      <th>Open</th>\n",
       "      <th>High</th>\n",
       "      <th>Low</th>\n",
       "      <th>Close</th>\n",
       "      <th>Adj Close</th>\n",
       "      <th>Volume</th>\n",
       "      <th>ts_polarity</th>\n",
       "      <th>twitter_volume</th>\n",
       "    </tr>\n",
       "  </thead>\n",
       "  <tbody>\n",
       "    <tr>\n",
       "      <th>0</th>\n",
       "      <td>2016-01-04</td>\n",
       "      <td>25.65</td>\n",
       "      <td>26.34</td>\n",
       "      <td>25.50</td>\n",
       "      <td>26.34</td>\n",
       "      <td>24.44</td>\n",
       "      <td>270597600</td>\n",
       "      <td>0.070389</td>\n",
       "      <td>1133.0</td>\n",
       "    </tr>\n",
       "    <tr>\n",
       "      <th>1</th>\n",
       "      <td>2016-01-05</td>\n",
       "      <td>26.44</td>\n",
       "      <td>26.46</td>\n",
       "      <td>25.60</td>\n",
       "      <td>25.68</td>\n",
       "      <td>23.83</td>\n",
       "      <td>223164000</td>\n",
       "      <td>0.133635</td>\n",
       "      <td>1430.0</td>\n",
       "    </tr>\n",
       "    <tr>\n",
       "      <th>2</th>\n",
       "      <td>2016-01-06</td>\n",
       "      <td>25.14</td>\n",
       "      <td>25.59</td>\n",
       "      <td>24.97</td>\n",
       "      <td>25.17</td>\n",
       "      <td>23.36</td>\n",
       "      <td>273829600</td>\n",
       "      <td>0.072042</td>\n",
       "      <td>1949.0</td>\n",
       "    </tr>\n",
       "    <tr>\n",
       "      <th>3</th>\n",
       "      <td>2016-01-07</td>\n",
       "      <td>24.67</td>\n",
       "      <td>25.03</td>\n",
       "      <td>24.11</td>\n",
       "      <td>24.11</td>\n",
       "      <td>22.38</td>\n",
       "      <td>324377600</td>\n",
       "      <td>0.074369</td>\n",
       "      <td>2289.0</td>\n",
       "    </tr>\n",
       "    <tr>\n",
       "      <th>4</th>\n",
       "      <td>2016-01-08</td>\n",
       "      <td>24.64</td>\n",
       "      <td>24.78</td>\n",
       "      <td>24.19</td>\n",
       "      <td>24.24</td>\n",
       "      <td>22.50</td>\n",
       "      <td>283192000</td>\n",
       "      <td>0.051595</td>\n",
       "      <td>2235.0</td>\n",
       "    </tr>\n",
       "  </tbody>\n",
       "</table>\n",
       "</div>"
      ],
      "text/plain": [
       "         Date   Open   High    Low  Close  Adj Close     Volume  ts_polarity  \\\n",
       "0  2016-01-04  25.65  26.34  25.50  26.34      24.44  270597600     0.070389   \n",
       "1  2016-01-05  26.44  26.46  25.60  25.68      23.83  223164000     0.133635   \n",
       "2  2016-01-06  25.14  25.59  24.97  25.17      23.36  273829600     0.072042   \n",
       "3  2016-01-07  24.67  25.03  24.11  24.11      22.38  324377600     0.074369   \n",
       "4  2016-01-08  24.64  24.78  24.19  24.24      22.50  283192000     0.051595   \n",
       "\n",
       "   twitter_volume  \n",
       "0          1133.0  \n",
       "1          1430.0  \n",
       "2          1949.0  \n",
       "3          2289.0  \n",
       "4          2235.0  "
      ]
     },
     "execution_count": 13,
     "metadata": {},
     "output_type": "execute_result"
    }
   ],
   "source": [
    "import pandas as pd\n",
    "import numpy as np\n",
    "from matplotlib import pyplot as plt\n",
    "\n",
    "# Read a pandas DataFrame\n",
    "data = pd.read_csv('AAPL.csv')\n",
    "data.head()"
   ]
  },
  {
   "cell_type": "code",
   "execution_count": 14,
   "id": "10f68789-bec5-4a31-bfad-48ed08b05c6b",
   "metadata": {},
   "outputs": [],
   "source": [
    "from sklearn.preprocessing import MinMaxScaler\n",
    "\n",
    "data['ts_polarity'] = data['ts_polarity'].interpolate()\n",
    "data['twitter_volume'] = data['twitter_volume'].interpolate()\n",
    "\n",
    "# Select features for the model\n",
    "features = data[['Open', 'High', 'Low', 'Adj Close', 'ts_polarity', 'twitter_volume']]\n",
    "target = data['Close']"
   ]
  },
  {
   "cell_type": "code",
   "execution_count": 15,
   "id": "dafb0aa5-900e-4db7-a731-be42ca9a69f6",
   "metadata": {},
   "outputs": [],
   "source": [
    "# Normalize features\n",
    "scaler_features = MinMaxScaler(feature_range=(0, 1))\n",
    "scaler_target = MinMaxScaler(feature_range=(0, 1))\n",
    "scaled_features = scaler_features.fit_transform(features)\n",
    "scaled_target = scaler_target.fit_transform(target.values.reshape(-1,1))"
   ]
  },
  {
   "cell_type": "code",
   "execution_count": 16,
   "id": "66029af4-a7cd-44b4-af3b-74683386cb41",
   "metadata": {},
   "outputs": [
    {
     "data": {
      "text/plain": [
       "((926, 30, 6), (926,), (232, 30, 6), (232,))"
      ]
     },
     "execution_count": 16,
     "metadata": {},
     "output_type": "execute_result"
    }
   ],
   "source": [
    "import numpy as np\n",
    "\n",
    "# Helper function to create sequences\n",
    "def create_dataset(features, target, look_back=30):\n",
    "    dataX, dataY = [], []\n",
    "    for i in range(len(features) - look_back):\n",
    "        a = features[i:(i + look_back), :]\n",
    "        dataX.append(a)\n",
    "        dataY.append(target[i + look_back, 0])\n",
    "    return np.array(dataX), np.array(dataY)\n",
    "\n",
    "# Create dataset for LSTM\n",
    "X, y = create_dataset(scaled_features, scaled_target)\n",
    "\n",
    "train_size = int(len(X) * 0.8)\n",
    "test_size = len(X) - train_size\n",
    "trainX, trainY = X[0:train_size], y[0:train_size]\n",
    "testX, testY = X[train_size:], y[train_size:]\n",
    "\n",
    "trainX.shape, trainY.shape, testX.shape, testY.shape"
   ]
  },
  {
   "cell_type": "code",
   "execution_count": 27,
   "id": "fcea5523-9572-4cb3-9543-ae4b942e1c5b",
   "metadata": {},
   "outputs": [
    {
     "name": "stdout",
     "output_type": "stream",
     "text": [
      "Epoch 1/20\n",
      "29/29 [==============================] - 7s 75ms/step - loss: 20.5055 - val_loss: 11.9095\n",
      "Epoch 2/20\n",
      "29/29 [==============================] - 1s 29ms/step - loss: 7.7642 - val_loss: 5.4897\n",
      "Epoch 3/20\n",
      "29/29 [==============================] - 1s 29ms/step - loss: 3.8500 - val_loss: 3.3597\n",
      "Epoch 4/20\n",
      "29/29 [==============================] - 1s 30ms/step - loss: 2.3304 - val_loss: 2.3228\n",
      "Epoch 5/20\n",
      "29/29 [==============================] - 1s 29ms/step - loss: 1.5218 - val_loss: 1.6841\n",
      "Epoch 6/20\n",
      "29/29 [==============================] - 1s 30ms/step - loss: 1.0307 - val_loss: 1.2683\n",
      "Epoch 7/20\n",
      "29/29 [==============================] - 1s 30ms/step - loss: 0.7160 - val_loss: 0.9637\n",
      "Epoch 8/20\n",
      "29/29 [==============================] - 1s 30ms/step - loss: 0.5083 - val_loss: 0.7786\n",
      "Epoch 9/20\n",
      "29/29 [==============================] - 1s 31ms/step - loss: 0.3673 - val_loss: 0.6177\n",
      "Epoch 10/20\n",
      "29/29 [==============================] - 1s 31ms/step - loss: 0.2703 - val_loss: 0.5269\n",
      "Epoch 11/20\n",
      "29/29 [==============================] - 1s 32ms/step - loss: 0.2025 - val_loss: 0.4382\n",
      "Epoch 12/20\n",
      "29/29 [==============================] - 1s 32ms/step - loss: 0.1536 - val_loss: 0.4054\n",
      "Epoch 13/20\n",
      "29/29 [==============================] - 1s 30ms/step - loss: 0.1183 - val_loss: 0.3500\n",
      "Epoch 14/20\n",
      "29/29 [==============================] - 1s 30ms/step - loss: 0.0924 - val_loss: 0.3244\n",
      "Epoch 15/20\n",
      "29/29 [==============================] - 1s 30ms/step - loss: 0.0736 - val_loss: 0.2334\n",
      "Epoch 16/20\n",
      "29/29 [==============================] - 1s 29ms/step - loss: 0.0593 - val_loss: 0.2541\n",
      "Epoch 17/20\n",
      "29/29 [==============================] - 1s 30ms/step - loss: 0.0482 - val_loss: 0.1472\n",
      "Epoch 18/20\n",
      "29/29 [==============================] - 1s 30ms/step - loss: 0.0401 - val_loss: 0.2475\n",
      "Epoch 19/20\n",
      "29/29 [==============================] - 1s 30ms/step - loss: 0.0333 - val_loss: 0.1238\n",
      "Epoch 20/20\n",
      "29/29 [==============================] - 1s 30ms/step - loss: 0.0276 - val_loss: 0.1072\n"
     ]
    },
    {
     "data": {
      "text/plain": [
       "<keras.callbacks.History at 0x171bce93100>"
      ]
     },
     "execution_count": 27,
     "metadata": {},
     "output_type": "execute_result"
    }
   ],
   "source": [
    "from tensorflow.keras.models import Sequential\n",
    "from tensorflow.keras.layers import LSTM, Dense, Dropout, Bidirectional, BatchNormalization\n",
    "from tensorflow.keras.regularizers import l2\n",
    "from tensorflow.keras.callbacks import EarlyStopping\n",
    "\n",
    "early_stop = EarlyStopping(monitor='val_loss', patience=5, restore_best_weights=True)\n",
    "\n",
    "# Build the LSTM model\n",
    "model = Sequential([\n",
    "    Bidirectional(LSTM(512, return_sequences=True, kernel_regularizer=l2(0.01), recurrent_regularizer=l2(0.01)), input_shape=(trainX.shape[1], trainX.shape[2])),\n",
    "    Dropout(0.2),\n",
    "    BatchNormalization(),\n",
    "    Bidirectional(LSTM(256, return_sequences=True, kernel_regularizer=l2(0.01))),\n",
    "    Dropout(0.2),\n",
    "    BatchNormalization(),\n",
    "    LSTM(128),\n",
    "    Dropout(0.2),\n",
    "    Dense(1)\n",
    "])\n",
    "\n",
    "# Compile the model\n",
    "model.compile(optimizer='adam', loss='mean_squared_error')\n",
    "\n",
    "model.fit(trainX, trainY, epochs=20, batch_size=32, validation_data=(testX, testY), verbose=1, callbacks=[early_stop])"
   ]
  },
  {
   "cell_type": "code",
   "execution_count": 28,
   "id": "03c43b98-97f2-481c-9ccd-afb75c99c76d",
   "metadata": {},
   "outputs": [
    {
     "name": "stdout",
     "output_type": "stream",
     "text": [
      "1/1 [==============================] - 1s 1s/step\n"
     ]
    },
    {
     "data": {
      "image/png": "[encoded data removed]",
      "text/plain": [
       "<Figure size 1500x500 with 1 Axes>"
      ]
     },
     "metadata": {},
     "output_type": "display_data"
    }
   ],
   "source": [
    "last_sequence = testX[-10:,:,:]\n",
    "predicted_output = model.predict(last_sequence)\n",
    "predicted_output = scaler_target.inverse_transform(predicted_output)\n",
    "actual_output = scaler_target.inverse_transform(testY[-10:].reshape(-1, 1))\n",
    "\n",
    "# Plotting\n",
    "plt.figure(figsize=(15, 5))\n",
    "plt.plot(range(-29, 1), scaler_target.inverse_transform(trainX[-1][:, 0].reshape(-1, 1)), label='Past Close Values')\n",
    "plt.plot(range(0, 10), actual_output, marker='o', label='Actual Future Close Values')\n",
    "plt.plot(range(0, 10), predicted_output, marker='x', linestyle='--', label='Predicted Future Close Values')\n",
    "plt.title('Comparison of LSTM Predictions with Actual Data')\n",
    "plt.xlabel('Days')\n",
    "plt.ylabel('Close Value')\n",
    "plt.legend()\n",
    "plt.show()"
   ]
  },
  {
   "cell_type": "code",
   "execution_count": null,
   "id": "856b9816-d3f0-4596-b2a7-b9e2b26bd1dd",
   "metadata": {},
   "outputs": [],
   "source": []
  }
 ],
 "metadata": {
  "kernelspec": {
   "display_name": "Python 3 (ipykernel)",
   "language": "python",
   "name": "python3"
  },
  "language_info": {
   "codemirror_mode": {
    "name": "ipython",
    "version": 3
   },
   "file_extension": ".py",
   "mimetype": "text/x-python",
   "name": "python",
   "nbconvert_exporter": "python",
   "pygments_lexer": "ipython3",
   "version": "3.10.13"
  }
 },
 "nbformat": 4,
 "nbformat_minor": 5
}
