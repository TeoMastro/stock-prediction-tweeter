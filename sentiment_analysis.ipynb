{
 "cells": [
  {
   "cell_type": "code",
   "execution_count": 1,
   "id": "cfb4deae-3d2c-42bf-a826-23a4e914ef16",
   "metadata": {},
   "outputs": [],
   "source": [
    "import pandas as pd\n",
    "import numpy as np\n",
    "import matplotlib.pyplot as plt\n",
    "import os\n",
    "import datetime\n",
    "import yfinance as yf"
   ]
  },
  {
   "cell_type": "code",
   "execution_count": 3,
   "id": "c027c0e4-5f32-4def-98b3-1f79b0cd24a3",
   "metadata": {},
   "outputs": [
    {
     "name": "stderr",
     "output_type": "stream",
     "text": [
      "[*********************100%%**********************]  1 of 1 completed\n"
     ]
    },
    {
     "name": "stdout",
     "output_type": "stream",
     "text": [
      "aal - Completed\n"
     ]
    },
    {
     "name": "stderr",
     "output_type": "stream",
     "text": [
      "[*********************100%%**********************]  1 of 1 completed\n"
     ]
    },
    {
     "name": "stdout",
     "output_type": "stream",
     "text": [
      "aapl - Completed\n"
     ]
    },
    {
     "name": "stderr",
     "output_type": "stream",
     "text": [
      "[*********************100%%**********************]  1 of 1 completed\n"
     ]
    },
    {
     "name": "stdout",
     "output_type": "stream",
     "text": [
      "adbe - Completed\n"
     ]
    },
    {
     "name": "stderr",
     "output_type": "stream",
     "text": [
      "[*********************100%%**********************]  1 of 1 completed\n"
     ]
    },
    {
     "name": "stdout",
     "output_type": "stream",
     "text": [
      "adp - Completed\n"
     ]
    },
    {
     "name": "stderr",
     "output_type": "stream",
     "text": [
      "[*********************100%%**********************]  1 of 1 completed\n",
      "[*********************100%%**********************]  1 of 1 completed"
     ]
    },
    {
     "name": "stdout",
     "output_type": "stream",
     "text": [
      "adsk - Completed\n"
     ]
    },
    {
     "name": "stderr",
     "output_type": "stream",
     "text": [
      "\n"
     ]
    },
    {
     "name": "stdout",
     "output_type": "stream",
     "text": [
      "akam - Completed\n"
     ]
    },
    {
     "name": "stderr",
     "output_type": "stream",
     "text": [
      "[*********************100%%**********************]  1 of 1 completed\n",
      "\n",
      "1 Failed download:\n",
      "['ALXN']: Exception('%ticker%: No timezone found, symbol may be delisted')\n"
     ]
    },
    {
     "name": "stdout",
     "output_type": "stream",
     "text": [
      "alxn - attempt to get argmax of an empty sequence\n"
     ]
    },
    {
     "name": "stderr",
     "output_type": "stream",
     "text": [
      "[*********************100%%**********************]  1 of 1 completed\n"
     ]
    },
    {
     "name": "stdout",
     "output_type": "stream",
     "text": [
      "amat - Completed\n"
     ]
    },
    {
     "name": "stderr",
     "output_type": "stream",
     "text": [
      "[*********************100%%**********************]  1 of 1 completed\n"
     ]
    },
    {
     "name": "stdout",
     "output_type": "stream",
     "text": [
      "amgn - Completed\n"
     ]
    },
    {
     "name": "stderr",
     "output_type": "stream",
     "text": [
      "[*********************100%%**********************]  1 of 1 completed\n"
     ]
    },
    {
     "name": "stdout",
     "output_type": "stream",
     "text": [
      "amzn - Completed\n"
     ]
    },
    {
     "name": "stderr",
     "output_type": "stream",
     "text": [
      "[*********************100%%**********************]  1 of 1 completed\n",
      "\n",
      "1 Failed download:\n",
      "['ATVI']: Exception('%ticker%: No timezone found, symbol may be delisted')\n"
     ]
    },
    {
     "name": "stdout",
     "output_type": "stream",
     "text": [
      "atvi - attempt to get argmax of an empty sequence\n"
     ]
    },
    {
     "name": "stderr",
     "output_type": "stream",
     "text": [
      "[*********************100%%**********************]  1 of 1 completed\n"
     ]
    },
    {
     "name": "stdout",
     "output_type": "stream",
     "text": [
      "avgo - Completed\n"
     ]
    },
    {
     "name": "stderr",
     "output_type": "stream",
     "text": [
      "[*********************100%%**********************]  1 of 1 completed\n",
      "\n",
      "1 Failed download:\n",
      "['BBBY']: Exception('%ticker%: No timezone found, symbol may be delisted')\n"
     ]
    },
    {
     "name": "stdout",
     "output_type": "stream",
     "text": [
      "bbby - attempt to get argmax of an empty sequence\n"
     ]
    },
    {
     "name": "stderr",
     "output_type": "stream",
     "text": [
      "[*********************100%%**********************]  1 of 1 completed\n"
     ]
    },
    {
     "name": "stdout",
     "output_type": "stream",
     "text": [
      "bidu - Completed\n"
     ]
    },
    {
     "name": "stderr",
     "output_type": "stream",
     "text": [
      "[*********************100%%**********************]  1 of 1 completed\n"
     ]
    },
    {
     "name": "stdout",
     "output_type": "stream",
     "text": [
      "bmrn - Completed\n"
     ]
    },
    {
     "name": "stderr",
     "output_type": "stream",
     "text": [
      "[*********************100%%**********************]  1 of 1 completed\n",
      "\n",
      "1 Failed download:\n",
      "['CA']: Exception(\"%ticker%: Data doesn't exist for startDate = 1459137600, endDate = 1466136000\")\n"
     ]
    },
    {
     "name": "stdout",
     "output_type": "stream",
     "text": [
      "ca - attempt to get argmax of an empty sequence\n"
     ]
    },
    {
     "name": "stderr",
     "output_type": "stream",
     "text": [
      "[*********************100%%**********************]  1 of 1 completed\n",
      "\n",
      "1 Failed download:\n",
      "['CELG']: Exception('%ticker%: No timezone found, symbol may be delisted')\n"
     ]
    },
    {
     "name": "stdout",
     "output_type": "stream",
     "text": [
      "celg - attempt to get argmax of an empty sequence\n"
     ]
    },
    {
     "name": "stderr",
     "output_type": "stream",
     "text": [
      "[*********************100%%**********************]  1 of 1 completed\n",
      "\n",
      "1 Failed download:\n",
      "['CERN']: Exception('%ticker%: No timezone found, symbol may be delisted')\n",
      "[*********************100%%**********************]  1 of 1 completed"
     ]
    },
    {
     "name": "stdout",
     "output_type": "stream",
     "text": [
      "cern - attempt to get argmax of an empty sequence\n"
     ]
    },
    {
     "name": "stderr",
     "output_type": "stream",
     "text": [
      "\n"
     ]
    },
    {
     "name": "stdout",
     "output_type": "stream",
     "text": [
      "chkp - Completed\n"
     ]
    },
    {
     "name": "stderr",
     "output_type": "stream",
     "text": [
      "[*********************100%%**********************]  1 of 1 completed\n"
     ]
    },
    {
     "name": "stdout",
     "output_type": "stream",
     "text": [
      "chtr - Completed\n"
     ]
    },
    {
     "name": "stderr",
     "output_type": "stream",
     "text": [
      "[*********************100%%**********************]  1 of 1 completed\n"
     ]
    },
    {
     "name": "stdout",
     "output_type": "stream",
     "text": [
      "cmcsa - Completed\n"
     ]
    },
    {
     "name": "stderr",
     "output_type": "stream",
     "text": [
      "[*********************100%%**********************]  1 of 1 completed\n"
     ]
    },
    {
     "name": "stdout",
     "output_type": "stream",
     "text": [
      "cost - Completed\n"
     ]
    },
    {
     "name": "stderr",
     "output_type": "stream",
     "text": [
      "[*********************100%%**********************]  1 of 1 completed\n"
     ]
    },
    {
     "name": "stdout",
     "output_type": "stream",
     "text": [
      "csco - Completed\n"
     ]
    },
    {
     "name": "stderr",
     "output_type": "stream",
     "text": [
      "[*********************100%%**********************]  1 of 1 completed\n"
     ]
    },
    {
     "name": "stdout",
     "output_type": "stream",
     "text": [
      "csx - Completed\n"
     ]
    },
    {
     "name": "stderr",
     "output_type": "stream",
     "text": [
      "[*********************100%%**********************]  1 of 1 completed\n",
      "\n",
      "1 Failed download:\n",
      "['CTRP']: Exception('%ticker%: No timezone found, symbol may be delisted')\n",
      "[*********************100%%**********************]  1 of 1 completed"
     ]
    },
    {
     "name": "stdout",
     "output_type": "stream",
     "text": [
      "ctrp - attempt to get argmax of an empty sequence\n"
     ]
    },
    {
     "name": "stderr",
     "output_type": "stream",
     "text": [
      "\n"
     ]
    },
    {
     "name": "stdout",
     "output_type": "stream",
     "text": [
      "ctsh - Completed\n"
     ]
    },
    {
     "name": "stderr",
     "output_type": "stream",
     "text": [
      "[*********************100%%**********************]  1 of 1 completed\n",
      "\n",
      "1 Failed download:\n",
      "['DISCA']: Exception('%ticker%: No timezone found, symbol may be delisted')\n"
     ]
    },
    {
     "name": "stdout",
     "output_type": "stream",
     "text": [
      "disca - attempt to get argmax of an empty sequence\n"
     ]
    },
    {
     "name": "stderr",
     "output_type": "stream",
     "text": [
      "[*********************100%%**********************]  1 of 1 completed\n",
      "\n",
      "1 Failed download:\n",
      "['DISCK']: Exception('%ticker%: No timezone found, symbol may be delisted')\n"
     ]
    },
    {
     "name": "stdout",
     "output_type": "stream",
     "text": [
      "disck - attempt to get argmax of an empty sequence\n"
     ]
    },
    {
     "name": "stderr",
     "output_type": "stream",
     "text": [
      "[*********************100%%**********************]  1 of 1 completed\n",
      "\n",
      "1 Failed download:\n",
      "['DISH']: Exception('%ticker%: No timezone found, symbol may be delisted')\n",
      "[*********************100%%**********************]  1 of 1 completed"
     ]
    },
    {
     "name": "stdout",
     "output_type": "stream",
     "text": [
      "dish - attempt to get argmax of an empty sequence\n"
     ]
    },
    {
     "name": "stderr",
     "output_type": "stream",
     "text": [
      "\n",
      "[*********************100%%**********************]  1 of 1 completed"
     ]
    },
    {
     "name": "stdout",
     "output_type": "stream",
     "text": [
      "dltr - Completed\n"
     ]
    },
    {
     "name": "stderr",
     "output_type": "stream",
     "text": [
      "\n",
      "[*********************100%%**********************]  1 of 1 completed"
     ]
    },
    {
     "name": "stdout",
     "output_type": "stream",
     "text": [
      "ea - Completed\n"
     ]
    },
    {
     "name": "stderr",
     "output_type": "stream",
     "text": [
      "\n",
      "[*********************100%%**********************]  1 of 1 completed"
     ]
    },
    {
     "name": "stdout",
     "output_type": "stream",
     "text": [
      "ebay - Completed\n"
     ]
    },
    {
     "name": "stderr",
     "output_type": "stream",
     "text": [
      "\n",
      "\n",
      "1 Failed download:\n",
      "['ENDP']: Exception(\"%ticker%: Period 'max' is invalid, must be one of ['1d', '5d']\")\n",
      "[*********************100%%**********************]  1 of 1 completed"
     ]
    },
    {
     "name": "stdout",
     "output_type": "stream",
     "text": [
      "endp - attempt to get argmax of an empty sequence\n"
     ]
    },
    {
     "name": "stderr",
     "output_type": "stream",
     "text": [
      "\n"
     ]
    },
    {
     "name": "stdout",
     "output_type": "stream",
     "text": [
      "esrx - Completed\n"
     ]
    },
    {
     "name": "stderr",
     "output_type": "stream",
     "text": [
      "[*********************100%%**********************]  1 of 1 completed\n"
     ]
    },
    {
     "name": "stdout",
     "output_type": "stream",
     "text": [
      "expe - Completed\n"
     ]
    },
    {
     "name": "stderr",
     "output_type": "stream",
     "text": [
      "[*********************100%%**********************]  1 of 1 completed\n"
     ]
    },
    {
     "name": "stdout",
     "output_type": "stream",
     "text": [
      "fast - Completed\n"
     ]
    },
    {
     "name": "stderr",
     "output_type": "stream",
     "text": [
      "[*********************100%%**********************]  1 of 1 completed\n",
      "\n",
      "1 Failed download:\n",
      "['FB']: Exception('%ticker%: No timezone found, symbol may be delisted')\n"
     ]
    },
    {
     "name": "stdout",
     "output_type": "stream",
     "text": [
      "fb - attempt to get argmax of an empty sequence\n"
     ]
    },
    {
     "name": "stderr",
     "output_type": "stream",
     "text": [
      "[*********************100%%**********************]  1 of 1 completed\n",
      "\n",
      "1 Failed download:\n",
      "['FISV']: Exception(\"%ticker%: Data doesn't exist for startDate = 1459137600, endDate = 1466222400\")\n"
     ]
    },
    {
     "name": "stdout",
     "output_type": "stream",
     "text": [
      "fisv - attempt to get argmax of an empty sequence\n"
     ]
    },
    {
     "name": "stderr",
     "output_type": "stream",
     "text": [
      "[*********************100%%**********************]  1 of 1 completed\n",
      "\n",
      "1 Failed download:\n",
      "['FOX']: Exception(\"%ticker%: Data doesn't exist for startDate = 1459137600, endDate = 1466136000\")\n"
     ]
    },
    {
     "name": "stdout",
     "output_type": "stream",
     "text": [
      "fox - attempt to get argmax of an empty sequence\n"
     ]
    }
   ],
   "source": [
    "# Get all of the stock files to process\n",
    "files = os.listdir('data/')\n",
    "\n",
    "# Initialize new dataframe to hold stock data\n",
    "stocks = pd.DataFrame()\n",
    "\n",
    "# For each stock to process\n",
    "for x in range(len(files)):\n",
    "    # Some tickers may be delisted, use try/except to avoid errors if ticker does not exist in yFinance\n",
    "    try:\n",
    "        # Assign current file name\n",
    "        filename = files[x]\n",
    "\n",
    "        # Read csv file for current ticker\n",
    "        data = pd.read_csv('data/'+filename+'/stock_data_sentiment.csv')\n",
    "        \n",
    "        # Convert string time to datetime\n",
    "        data['Datetime'] = pd.to_datetime(data['Datetime'])\n",
    "\n",
    "        # Convert 0 sentiment to -1\n",
    "        data.loc[data['Sentiment']==0, 'Sentiment'] = -1\n",
    "        \n",
    "        # Initialize Weights and Tweet numbers \n",
    "        data['Tweets'] = 1\n",
    "        data['Weight'] = 1\n",
    "\n",
    "        # Determine the mean and standard deviation of the number of followers a given user has for a given tweet\n",
    "        # This ensures tweets with less tweets per day are treated equally \n",
    "        data['Followers_Mean'] = data['Followers'].rolling(10000, min_periods=1).mean()\n",
    "        data['Followers_Std'] = data['Followers'].rolling(10000, min_periods=1).std()\n",
    "        data['Followers_Std'] = data['Followers_Std'].fillna(data['Followers_Std'].values[1])\n",
    "\n",
    "        # weight tweets from users with higher follower counts more heavily. Calculate based on mean and standard deviation gates\n",
    "        data.loc[ (data['Followers']>=data['Followers_Mean']) & (data['Followers'] < (data['Followers_Mean']+data['Followers_Std'])), 'Weight'] += 1\n",
    "        data.loc[ (data['Followers']>=(data['Followers_Mean']+data['Followers_Std'])) & (data['Followers'] < (data['Followers_Mean']+data['Followers_Std']*2)), 'Weight'] += 2\n",
    "        data.loc[data['Followers']>=(data['Followers_Mean']+data['Followers_Std']*2), 'Weight'] += 3\n",
    "\n",
    "        # Determine the mean and standard deviation of the number of re-tweets a given user has for a given tweet\n",
    "        # This ensures tweets with less tweets per day are treated equally \n",
    "        data['RTs_Mean'] = data['RTs'].rolling(10000, min_periods=1).mean()\n",
    "        data['RTs_Std'] = data['RTs'].rolling(10000, min_periods=1).std()\n",
    "        data['RTs_Std'] = data['RTs_Std'].fillna(data['RTs_Std'].values[1])\n",
    "\n",
    "        # Weight tweets with more re-tweests more heavily. Calculate based on mean and standard deviation gates\n",
    "        data.loc[ (data['RTs']>=data['RTs_Mean']) & (data['RTs'] < (data['RTs_Mean']+data['RTs_Std'])), 'Weight'] += 1\n",
    "        data.loc[ (data['RTs']>=(data['RTs_Mean']+data['RTs_Std'])) & (data['RTs'] < (data['RTs_Mean']+data['RTs_Std']*2)), 'Weight'] += 2\n",
    "        data.loc[data['RTs']>=(data['RTs_Mean']+data['RTs_Std']*2), 'Weight'] += 3\n",
    "\n",
    "        # multiply the sentiment score by the individual weigth\n",
    "        data['Sentiment_Weighted'] = data['Sentiment']*data['Weight']\n",
    "\n",
    "        # Group the stock data by months and days\n",
    "        data = data.groupby([data.Datetime.dt.month, data.Datetime.dt.day]).sum(numeric_only=True)\n",
    "        \n",
    "        # Reassign the ticker name that was lost after grouping \n",
    "        data['Ticker'] = filename.split('_')[0]\n",
    "        \n",
    "        # Reassign date based on index values of month and day\n",
    "        data['Date'] = pd.to_datetime([ str(x)+'/'+str(y)+'/2016' for (x,y) in data.index.values ])+datetime.timedelta(days=1)\n",
    "        \n",
    "        # Drop the index\n",
    "        data = data.reset_index(drop=True)\n",
    "\n",
    "        # Divide the sentiment by the total number of tweets \n",
    "        data['Sentiment_Weighted'] /= data['Tweets']\n",
    "        \n",
    "        # Get the rolling average of the sentiment and tweet volume\n",
    "        data['Sentiment_MA'] = data['Sentiment_Weighted'].rolling(3, min_periods=1).mean()\n",
    "        data['Tweets_MA'] = data['Tweets'].rolling(3, min_periods=1).mean()\n",
    "\n",
    "        # Get the starting date and ending date to extract stock prices \n",
    "        start_date = data['Date'].min()\n",
    "        end_date = data['Date'].max()+datetime.timedelta(days=2)\n",
    "\n",
    "        # Download stock price data for given range of tweets \n",
    "        prices = yf.download(tickers=filename.split('_')[0], start=start_date, end=end_date).reset_index()\n",
    "        \n",
    "        # Calculate percent change based on stock price changes\n",
    "        prices['Percent_Change'] = (prices['Adj Close'].pct_change()*100).shift(-1)\n",
    "        \n",
    "        # Bin percent changes by amount lost/gained by stock\n",
    "        prices['Percent_Change_Bin'] = pd.cut(prices['Percent_Change'], [-100, 0, 2, 100], labels=[0, 1, 2])\n",
    "\n",
    "        # Combine the stock sentiment data and the pricing data \n",
    "        data = data.merge(prices, on='Date', how='left')\n",
    "\n",
    "        # Remove excess columns \n",
    "        data = data[['Ticker', 'Date', 'Sentiment_Weighted', 'Sentiment_MA', 'Tweets', 'Tweets_MA', 'Adj Close', 'Percent_Change', 'Percent_Change_Bin']]\n",
    "        \n",
    "        # Drop missing values for days without pricing information \n",
    "        data = data.dropna().reset_index(drop=True)\n",
    "        \n",
    "        # Save stock sentiment and pricing data to csv\n",
    "        data.to_csv('data/' + filename + '/stock_data_inputs.csv', index=False)\n",
    "        \n",
    "        # Add ticker data to the main data set \n",
    "        stocks = pd.concat([stocks, data])\n",
    "        \n",
    "        # Print status of ticker \n",
    "        print(filename.split('_')[0], '- Completed')\n",
    "    \n",
    "    # If the ticker is not in yFinance \n",
    "    except Exception as e:\n",
    "        # Print error message\n",
    "        print(filename.split('_')[0], '-', e)\n",
    "        \n",
    "\n",
    "# Save data for all stocks to csv \n",
    "stocks.to_csv('combined_stock_inputs.csv', index=False)"
   ]
  },
  {
   "cell_type": "code",
   "execution_count": 4,
   "id": "dd4a089e-cbf2-4b68-b7cf-123361782aab",
   "metadata": {},
   "outputs": [
    {
     "name": "stdout",
     "output_type": "stream",
     "text": [
      "(353, 4) (353,)\n",
      "(1089, 4) (1089,)\n",
      "\n",
      "\n",
      "0.2516069788797062\n",
      "\n",
      "\n"
     ]
    },
    {
     "data": {
      "image/png": "[encoded data removed]",
      "text/plain": [
       "<Figure size 1500x700 with 1 Axes>"
      ]
     },
     "metadata": {},
     "output_type": "display_data"
    },
    {
     "name": "stdout",
     "output_type": "stream",
     "text": [
      "Long-Term Investment: 9946.58 ( -0.53 % )\n",
      "Bot Trading: 9973.35 ( -0.27 % )\n"
     ]
    }
   ],
   "source": [
    "from sklearn.ensemble import RandomForestClassifier\n",
    "\n",
    "# Sort values in stock sentiment/pricing data by date and ticker name \n",
    "stocks = stocks.sort_values(['Date', 'Ticker'])\n",
    "\n",
    "# Use first 2 months of data as test data\n",
    "d_train = stocks.loc[stocks['Date'] < datetime.datetime(year=2016, month=4, day=15)].reset_index(drop=True)\n",
    "\n",
    "# Use last 2-3 months as test data \n",
    "d_test = stocks.loc[stocks['Date'] >= datetime.datetime(year=2016, month=4, day=15)].reset_index(drop=True)\n",
    "\n",
    "# Remove extra columns from train data \n",
    "X_train = d_train[['Sentiment_Weighted', 'Sentiment_MA', 'Tweets', 'Tweets_MA']].values\n",
    "y_train = d_train['Percent_Change_Bin'].values\n",
    "\n",
    "# Remove extra solumns from test data \n",
    "X_test = d_test[['Sentiment_Weighted', 'Sentiment_MA', 'Tweets', 'Tweets_MA']].values\n",
    "y_test = d_test['Percent_Change_Bin'].values\n",
    "\n",
    "print(X_train.shape, y_train.shape)\n",
    "print(X_test.shape, y_test.shape)\n",
    "print('\\n')\n",
    "\n",
    "# Define random forest classifier\n",
    "model = RandomForestClassifier(random_state=1)\n",
    "\n",
    "# Train model with training data\n",
    "model.fit(X_train, y_train)\n",
    "\n",
    "# Predict the test data \n",
    "preds = model.predict(X_test)\n",
    "\n",
    "# Print the percent of predictions that resulted in investing in a losing stock\n",
    "print(len(np.where( (preds>0) & (y_test==0) )[0])/len(preds))\n",
    "print('\\n')\n",
    "\n",
    "# Add predictions to test dataset \n",
    "d_test['Prediction'] = preds\n",
    "\n",
    "# Initialize starting capital to test model effectiveness\n",
    "bot_capital = 10000\n",
    "long_capital = 10000\n",
    "\n",
    "# Add capital as first data points\n",
    "bots = [bot_capital]\n",
    "longs = [long_capital]\n",
    "\n",
    "# Get unique dates\n",
    "dates = d_test['Date'].sort_values().unique()\n",
    "\n",
    "# For each date\n",
    "for date in dates:\n",
    "    # filter dataframe to date\n",
    "    temp = d_test[d_test['Date']==date]\n",
    "    \n",
    "    # Calculate profit from investing equal parts to all tickers in timeframe\n",
    "    long_capital = long_capital + ((long_capital/len(temp)) * (temp['Percent_Change']/100)).sum()\n",
    "    \n",
    "    # Calculate profit from using the Twitter bot to determine what stocks to invest in \n",
    "    temp = temp[temp['Prediction']>0]\n",
    "    bot_capital = bot_capital + ((bot_capital/len(temp)) * (temp['Percent_Change']/100)).sum()\n",
    "    \n",
    "    # Keep track of the account totals ove time \n",
    "    longs.append(long_capital)\n",
    "    bots.append(bot_capital)\n",
    "    \n",
    "    \n",
    "# Plot the accounts balances over time\n",
    "plt.figure(figsize=(15,7))\n",
    "plt.plot(dates, longs[1:], c='b', label='Long Invest')\n",
    "plt.plot(dates, bots[1:], c='r', label='Bot Invest')\n",
    "plt.legend()\n",
    "plt.show()\n",
    "\n",
    "# Show the return from each account over time \n",
    "print('Long-Term Investment:', round(longs[-1],2), '(', round((longs[-1]-longs[0])/longs[0]*100,2), '% )')\n",
    "print('Bot Trading:', round(bots[-1],2), '(', round((bots[-1]-bots[0])/bots[0]*100,2), '% )')"
   ]
  }
 ],
 "metadata": {
  "kernelspec": {
   "display_name": "Python 3 (ipykernel)",
   "language": "python",
   "name": "python3"
  },
  "language_info": {
   "codemirror_mode": {
    "name": "ipython",
    "version": 3
   },
   "file_extension": ".py",
   "mimetype": "text/x-python",
   "name": "python",
   "nbconvert_exporter": "python",
   "pygments_lexer": "ipython3",
   "version": "3.11.5"
  }
 },
 "nbformat": 4,
 "nbformat_minor": 5
}
