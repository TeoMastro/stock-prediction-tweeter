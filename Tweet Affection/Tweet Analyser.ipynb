{
 "cells": [
  {
   "cell_type": "code",
   "execution_count": 9,
   "id": "2eb2dbe2",
   "metadata": {},
   "outputs": [
    {
     "name": "stdout",
     "output_type": "stream",
     "text": [
      "  ticker_symbol company_name\n",
      "0          AAPL        apple\n",
      "1          GOOG   Google Inc\n",
      "2         GOOGL   Google Inc\n",
      "3          AMZN   Amazon.com\n",
      "4          TSLA    Tesla Inc\n",
      "\n",
      "\n",
      "             tweet_id ticker_symbol\n",
      "0  550803612197457920          AAPL\n",
      "1  550803610825928706          AAPL\n",
      "2  550803225113157632          AAPL\n",
      "3  550802957370159104          AAPL\n",
      "4  550802855129382912          AAPL\n",
      "\n",
      "\n",
      "             tweet_id           writer   post_date  \\\n",
      "0  550441509175443456  VisualStockRSRC  1420070457   \n",
      "1  550441672312512512      KeralaGuy77  1420070496   \n",
      "2  550441732014223360      DozenStocks  1420070510   \n",
      "3  550442977802207232     ShowDreamCar  1420070807   \n",
      "4  550443807834402816     i_Know_First  1420071005   \n",
      "\n",
      "                                                body  comment_num  \\\n",
      "0  lx21 made $10,008  on $AAPL -Check it out! htt...            0   \n",
      "1  Insanity of today weirdo massive selling. $aap...            0   \n",
      "2  S&P100 #Stocks Performance $HD $LOW $SBUX $TGT...            0   \n",
      "3  $GM $TSLA: Volkswagen Pushes 2014 Record Recal...            0   \n",
      "4  Swing Trading: Up To 8.91% Return In 14 Days h...            0   \n",
      "\n",
      "   retweet_num  like_num  \n",
      "0            0         1  \n",
      "1            0         0  \n",
      "2            0         0  \n",
      "3            0         1  \n",
      "4            0         1  \n"
     ]
    }
   ],
   "source": [
    "import pandas as pd\n",
    "\n",
    "# Load the CSV files\n",
    "companies_df = pd.read_csv('data/Company.csv')\n",
    "company_tweets_df = pd.read_csv('data/Company_Tweet.csv')\n",
    "tweets_df = pd.read_csv('data/Tweet.csv')\n",
    "\n",
    "# Display the first few rows of each DataFrame\n",
    "print(companies_df.head())\n",
    "print(\"\\n\")\n",
    "print(company_tweets_df.head())\n",
    "print(\"\\n\")\n",
    "print(tweets_df.head())\n"
   ]
  },
  {
   "cell_type": "code",
   "execution_count": 10,
   "id": "f6781bd3",
   "metadata": {},
   "outputs": [
    {
     "name": "stdout",
     "output_type": "stream",
     "text": [
      "             tweet_id ticker_symbol company_name\n",
      "0  550803612197457920          AAPL        apple\n",
      "1  550803610825928706          AAPL        apple\n",
      "2  550803225113157632          AAPL        apple\n",
      "3  550802957370159104          AAPL        apple\n",
      "4  550802855129382912          AAPL        apple\n"
     ]
    }
   ],
   "source": [
    "merged_df = pd.merge(company_tweets_df, companies_df, on='ticker_symbol', how='inner')\n",
    "print(merged_df.head())\n"
   ]
  },
  {
   "cell_type": "code",
   "execution_count": 11,
   "id": "9050943c",
   "metadata": {},
   "outputs": [
    {
     "name": "stdout",
     "output_type": "stream",
     "text": [
      "             tweet_id ticker_symbol company_name      writer   post_date  \\\n",
      "0  550803612197457920          AAPL        apple  SentiQuant  1420156789   \n",
      "1  550803612197457920          AMZN   Amazon.com  SentiQuant  1420156789   \n",
      "2  550803610825928706          AAPL        apple  SentiQuant  1420156788   \n",
      "3  550803610825928706         GOOGL   Google Inc  SentiQuant  1420156788   \n",
      "4  550803610825928706          AMZN   Amazon.com  SentiQuant  1420156788   \n",
      "\n",
      "                                                body  comment_num  \\\n",
      "0  #TOPTICKERTWEETS $AAPL $IMRS $BABA $EBAY $AMZN...            0   \n",
      "1  #TOPTICKERTWEETS $AAPL $IMRS $BABA $EBAY $AMZN...            0   \n",
      "2  #SENTISHIFTUP $K $FB $GOOGL $GS $GOLD $T $AAPL...            0   \n",
      "3  #SENTISHIFTUP $K $FB $GOOGL $GS $GOLD $T $AAPL...            0   \n",
      "4  #SENTISHIFTUP $K $FB $GOOGL $GS $GOLD $T $AAPL...            0   \n",
      "\n",
      "   retweet_num  like_num  \n",
      "0            0         1  \n",
      "1            0         1  \n",
      "2            0         1  \n",
      "3            0         1  \n",
      "4            0         1  \n"
     ]
    }
   ],
   "source": [
    "combined_df = pd.merge(merged_df, tweets_df, on='tweet_id', how='inner')\n",
    "print(combined_df.head())\n"
   ]
  },
  {
   "cell_type": "code",
   "execution_count": 13,
   "id": "6afb5fb4",
   "metadata": {},
   "outputs": [
    {
     "name": "stdout",
     "output_type": "stream",
     "text": [
      "done\n"
     ]
    }
   ],
   "source": [
    "import re\n",
    "\n",
    "def clean_tweet(text):\n",
    "    text = re.sub(r'http\\S+', '', text)  # Remove URLs\n",
    "    text = re.sub(r'@\\w+', '', text)    # Remove mentions\n",
    "    text = re.sub(r'#', '', text)       # Remove hashtags\n",
    "    text = re.sub(r'[^\\w\\s]', '', text) # Remove punctuations\n",
    "    text = text.lower()                 # Convert to lowercase\n",
    "    return text\n",
    "\n",
    "combined_df['cleaned_body'] = combined_df['body'].apply(clean_tweet)\n",
    "print(\"done\")\n"
   ]
  },
  {
   "cell_type": "code",
   "execution_count": 21,
   "id": "4f678535",
   "metadata": {},
   "outputs": [
    {
     "name": "stdout",
     "output_type": "stream",
     "text": [
      "             tweet_id ticker_symbol company_name      writer   post_date  \\\n",
      "0  550803612197457920          AAPL        apple  SentiQuant  1420156789   \n",
      "1  550803612197457920          AMZN   Amazon.com  SentiQuant  1420156789   \n",
      "2  550803610825928706          AAPL        apple  SentiQuant  1420156788   \n",
      "3  550803610825928706         GOOGL   Google Inc  SentiQuant  1420156788   \n",
      "4  550803610825928706          AMZN   Amazon.com  SentiQuant  1420156788   \n",
      "\n",
      "                                                body  comment_num  \\\n",
      "0  #TOPTICKERTWEETS $AAPL $IMRS $BABA $EBAY $AMZN...            0   \n",
      "1  #TOPTICKERTWEETS $AAPL $IMRS $BABA $EBAY $AMZN...            0   \n",
      "2  #SENTISHIFTUP $K $FB $GOOGL $GS $GOLD $T $AAPL...            0   \n",
      "3  #SENTISHIFTUP $K $FB $GOOGL $GS $GOLD $T $AAPL...            0   \n",
      "4  #SENTISHIFTUP $K $FB $GOOGL $GS $GOLD $T $AAPL...            0   \n",
      "\n",
      "   retweet_num  like_num                                       cleaned_body  \\\n",
      "0            0         1  toptickertweets aapl imrs baba ebay amzn t ign...   \n",
      "1            0         1  toptickertweets aapl imrs baba ebay amzn t ign...   \n",
      "2            0         1  sentishiftup k fb googl gs gold t aapl baba tw...   \n",
      "3            0         1  sentishiftup k fb googl gs gold t aapl baba tw...   \n",
      "4            0         1  sentishiftup k fb googl gs gold t aapl baba tw...   \n",
      "\n",
      "   sentiment  \n",
      "0        0.0  \n",
      "1        0.0  \n",
      "2        0.0  \n",
      "3        0.0  \n",
      "4        0.0  \n"
     ]
    }
   ],
   "source": [
    "import pandas as pd\n",
    "from vaderSentiment.vaderSentiment import SentimentIntensityAnalyzer\n",
    "from joblib import Parallel, delayed\n",
    "\n",
    "# Assuming combined_df is already defined and has a 'cleaned_body' column\n",
    "\n",
    "analyzer = SentimentIntensityAnalyzer()\n",
    "\n",
    "def get_vader_sentiment(text):\n",
    "    return analyzer.polarity_scores(text)['compound']\n",
    "\n",
    "# Using joblib to parallelize the sentiment analysis\n",
    "num_cores = mp.cpu_count()\n",
    "\n",
    "# Parallel processing with joblib\n",
    "combined_df['sentiment'] = Parallel(n_jobs=num_cores)(\n",
    "    delayed(get_vader_sentiment)(text) for text in combined_df['cleaned_body']\n",
    ")\n",
    "\n",
    "print(combined_df.head())\n",
    "combined_df.to_csv('Tweet_Affection.csv', index=False)\n"
   ]
  },
  {
   "cell_type": "code",
   "execution_count": 20,
   "id": "b5cad0b0",
   "metadata": {},
   "outputs": [],
   "source": [
    "\n"
   ]
  },
  {
   "cell_type": "code",
   "execution_count": null,
   "id": "b00fee56",
   "metadata": {},
   "outputs": [],
   "source": []
  }
 ],
 "metadata": {
  "kernelspec": {
   "display_name": "Python 3 (ipykernel)",
   "language": "python",
   "name": "python3"
  },
  "language_info": {
   "codemirror_mode": {
    "name": "ipython",
    "version": 3
   },
   "file_extension": ".py",
   "mimetype": "text/x-python",
   "name": "python",
   "nbconvert_exporter": "python",
   "pygments_lexer": "ipython3",
   "version": "3.11.5"
  }
 },
 "nbformat": 4,
 "nbformat_minor": 5
}
